{
  "cells": [
    {
      "cell_type": "markdown",
      "metadata": {
        "id": "DFJ_JO0_6sxx"
      },
      "source": [
        "# Applying and Evaluating Agglomerative Clustering\n",
        "\n",
        "In this hands-on tutorial, building and evaluating Agglomerative clustering is discussed. It is a  Agglomerative clustering  kind of hierarchical clustering technique where data points are grouped sharing similar characteristics. This technique starts by treating each object as a singleton cluster. Next, pairs of clusters are successively merged until all clusters have been merged into one big cluster containing all objects. The result is a tree-based representation of the objects, named dendrogram. Unlike K-means, this clustering technique do not depend upon parameter to form clustering. Using, dendrogram, user can identify best number of clusters for given data set.\n",
        "\n",
        "The key steps to Agglomertive clustering are as follows:\n",
        "\n",
        "1. Prepare data set\n",
        "\n",
        "2. Use linkage function such as, single, average, ward  to group objects into hierarchical cluster tree, based on the distance information generated at step 1. Objects/clusters that are in close proximity are linked together using the linkage function.\n",
        "\n",
        "3. Use dendrogram to determine where to cut the hierarchical tree into clusters. \n",
        "\n",
        "4. Apply Agglomertive clustering using information gathered in step 3\n",
        "\n",
        "5. Evaluate clustering quality\n",
        "\n",
        "Scikit learn library supports built in functionality for applying Agglomertive clustering, inspecting dendrogram and analysis of clustering output. In this tutorial, you will learn to use these functionalities to apply clustering on given data set. \n",
        "\n",
        "The data set used for demonstration is 2D. The two features are namely, income and expenditure. The information on these features is comprised from 200 customers showcasing there expenditure behaviour given their income. The idea is to apply clustering to identify similarity of expenditure behaviour of customers. \n",
        "\n",
        "\n"
      ]
    },
    {
      "cell_type": "markdown",
      "metadata": {
        "id": "WD7zaA8I6sx1"
      },
      "source": [
        "# 1. Importing Libraries"
      ]
    },
    {
      "cell_type": "code",
      "execution_count": null,
      "metadata": {
        "id": "EdCqH70u6sx1"
      },
      "outputs": [],
      "source": [
        "# pandas for data manipulation\n",
        "import pandas as pd\n",
        "\n",
        "# for data visualization\n",
        "import matplotlib.pyplot as plt\n",
        "% matplotlib inline\n",
        "\n",
        "# importing  AgglomerativeClustering function from scikit learn\n",
        "from sklearn.cluster import AgglomerativeClustering\n",
        "\n",
        "# importing Dendrogram for inspecting merging of clusters\n",
        "import scipy.cluster.hierarchy as shc\n",
        "\n",
        "# importing StandardScaler from  scikit learn for data pre-processing\n",
        "from sklearn.preprocessing import StandardScaler\n",
        "\n",
        "# importing  silhouette_score metrices available in sklearn\n",
        "from sklearn.metrics.cluster import silhouette_score\n"
      ]
    },
    {
      "cell_type": "markdown",
      "metadata": {
        "id": "CupmjSz_6sx2"
      },
      "source": [
        "# 2. Loading Data set"
      ]
    },
    {
      "cell_type": "code",
      "execution_count": null,
      "metadata": {
        "id": "FRpMasT76sx3",
        "outputId": "1f344ba4-82ad-4ccb-cd83-275bf9180d4b"
      },
      "outputs": [
        {
          "data": {
            "text/html": [
              "<div>\n",
              "<style scoped>\n",
              "    .dataframe tbody tr th:only-of-type {\n",
              "        vertical-align: middle;\n",
              "    }\n",
              "\n",
              "    .dataframe tbody tr th {\n",
              "        vertical-align: top;\n",
              "    }\n",
              "\n",
              "    .dataframe thead th {\n",
              "        text-align: right;\n",
              "    }\n",
              "</style>\n",
              "<table border=\"1\" class=\"dataframe\">\n",
              "  <thead>\n",
              "    <tr style=\"text-align: right;\">\n",
              "      <th></th>\n",
              "      <th>Income</th>\n",
              "      <th>Expenditure</th>\n",
              "    </tr>\n",
              "  </thead>\n",
              "  <tbody>\n",
              "    <tr>\n",
              "      <th>count</th>\n",
              "      <td>200.000000</td>\n",
              "      <td>200.000000</td>\n",
              "    </tr>\n",
              "    <tr>\n",
              "      <th>mean</th>\n",
              "      <td>60.560000</td>\n",
              "      <td>50.200000</td>\n",
              "    </tr>\n",
              "    <tr>\n",
              "      <th>std</th>\n",
              "      <td>26.264721</td>\n",
              "      <td>25.823522</td>\n",
              "    </tr>\n",
              "    <tr>\n",
              "      <th>min</th>\n",
              "      <td>15.000000</td>\n",
              "      <td>1.000000</td>\n",
              "    </tr>\n",
              "    <tr>\n",
              "      <th>25%</th>\n",
              "      <td>41.500000</td>\n",
              "      <td>34.750000</td>\n",
              "    </tr>\n",
              "    <tr>\n",
              "      <th>50%</th>\n",
              "      <td>61.500000</td>\n",
              "      <td>50.000000</td>\n",
              "    </tr>\n",
              "    <tr>\n",
              "      <th>75%</th>\n",
              "      <td>78.000000</td>\n",
              "      <td>73.000000</td>\n",
              "    </tr>\n",
              "    <tr>\n",
              "      <th>max</th>\n",
              "      <td>137.000000</td>\n",
              "      <td>99.000000</td>\n",
              "    </tr>\n",
              "  </tbody>\n",
              "</table>\n",
              "</div>"
            ],
            "text/plain": [
              "           Income  Expenditure\n",
              "count  200.000000   200.000000\n",
              "mean    60.560000    50.200000\n",
              "std     26.264721    25.823522\n",
              "min     15.000000     1.000000\n",
              "25%     41.500000    34.750000\n",
              "50%     61.500000    50.000000\n",
              "75%     78.000000    73.000000\n",
              "max    137.000000    99.000000"
            ]
          },
          "execution_count": 2,
          "metadata": {},
          "output_type": "execute_result"
        }
      ],
      "source": [
        "My_data = pd.read_csv('Data sets/Income_Expenditure.csv')\n",
        "My_data.describe()"
      ]
    },
    {
      "cell_type": "markdown",
      "metadata": {
        "id": "MOCTWbZI6sx4"
      },
      "source": [
        "Both the features are in same scale hence pre-processing is not required."
      ]
    },
    {
      "cell_type": "markdown",
      "metadata": {
        "id": "Jw_S3iFa6sx5"
      },
      "source": [
        "# 3. Inspecting Dendrogram\n",
        "\n",
        "Dendrogram helps to identify possible number of clusters for the given data set. It also explains how  data points are merged  to form a cluster. In order to identify number of cluster by looking at dendrogram is done by marking a horizontal line on the longest vertical distance without any horizontal interactions passing through it. "
      ]
    },
    {
      "cell_type": "code",
      "execution_count": null,
      "metadata": {
        "id": "1WdOJW0_6sx5",
        "outputId": "da12ce63-5e54-4600-fa6c-08fce4fcf96c"
      },
      "outputs": [
        {
          "data": {
            "image/png": "[encoded data removed]",
            "text/plain": [
              "<Figure size 720x576 with 1 Axes>"
            ]
          },
          "metadata": {},
          "output_type": "display_data"
        }
      ],
      "source": [
        "plt.figure(figsize=(10, 8))  \n",
        "plt.title(\"Dendrograms\")  \n",
        "\n",
        "# linkage method can be single, average, max, min , ward depending upon choice of user\n",
        "dend = shc.dendrogram(shc.linkage(My_data, method='ward'))\n",
        "#plt.axhline(y=200, color='r', linestyle='--')\n",
        "#plt.axhline(y=250, color='c', linestyle='--')\n",
        "#plt.axhline(y=350, color='m', linestyle='--')"
      ]
    },
    {
      "cell_type": "markdown",
      "metadata": {
        "id": "5xD1pRUF6sx5"
      },
      "source": [
        "Three possible horizontal lines are marked. Each contributing to different cluatering output. As we go down(red line) in  choosing the horizontal line, number of clusters will increase and distance between cluaters will be low. On the other hand, as we go up(pink horizontal line), number of clusters wll be less but the intra-cluster distance will be high.  "
      ]
    },
    {
      "cell_type": "markdown",
      "metadata": {
        "id": "BBw4m8KQ6sx6"
      },
      "source": [
        "# 4. Applying Agglomerative Clustering\n",
        "\n",
        "Below, we first set number of clusters to 2 and apply agglomerative clustering. "
      ]
    },
    {
      "cell_type": "code",
      "execution_count": null,
      "metadata": {
        "id": "5TMum4Ww6sx6",
        "outputId": "33fac9ba-fd18-427c-d4cc-4fb45145ffb7"
      },
      "outputs": [
        {
          "data": {
            "text/plain": [
              "array([0, 0, 0, 0, 0, 0, 0, 0, 0, 0, 0, 0, 0, 0, 0, 0, 0, 0, 0, 0, 0, 0,\n",
              "       0, 0, 0, 0, 0, 0, 0, 0, 0, 0, 0, 0, 0, 0, 0, 0, 0, 0, 0, 0, 0, 0,\n",
              "       0, 0, 0, 0, 0, 0, 0, 0, 0, 0, 0, 0, 0, 0, 0, 0, 0, 0, 0, 0, 0, 0,\n",
              "       0, 0, 0, 0, 0, 0, 0, 0, 0, 0, 0, 0, 0, 0, 0, 0, 0, 0, 0, 0, 0, 0,\n",
              "       0, 0, 0, 0, 0, 0, 0, 0, 0, 0, 0, 0, 0, 0, 0, 0, 0, 0, 0, 0, 0, 0,\n",
              "       0, 0, 0, 0, 0, 0, 0, 0, 0, 0, 0, 0, 0, 2, 0, 2, 0, 2, 1, 2, 1, 2,\n",
              "       0, 2, 1, 2, 1, 2, 1, 2, 1, 2, 0, 2, 1, 2, 0, 2, 1, 2, 1, 2, 1, 2,\n",
              "       1, 2, 1, 2, 1, 2, 0, 2, 1, 2, 1, 2, 1, 2, 1, 2, 1, 2, 1, 2, 1, 2,\n",
              "       1, 2, 1, 2, 1, 2, 1, 2, 1, 2, 1, 2, 1, 2, 1, 2, 1, 2, 1, 2, 1, 2,\n",
              "       1, 2])"
            ]
          },
          "execution_count": 12,
          "metadata": {},
          "output_type": "execute_result"
        }
      ],
      "source": [
        "# applying AgglomerativeClustering with number of clusters set to 2, distance matrix as euclidean\n",
        "# and linkage method as Ward.\n",
        "Cluster_result = AgglomerativeClustering(n_clusters=3, affinity='euclidean', linkage='ward')  \n",
        "Cluster_mapping = Cluster_result.fit_predict(My_data)\n",
        "# prinitng assignments of clusters to data points present in the data set\n",
        "Cluster_mapping"
      ]
    },
    {
      "cell_type": "markdown",
      "metadata": {
        "id": "w4Q272DN6sx6"
      },
      "source": [
        "# 5. Printing Mapping of Data points per Cluster"
      ]
    },
    {
      "cell_type": "code",
      "execution_count": null,
      "metadata": {
        "id": "ZJG3hhF66sx6",
        "outputId": "3cde2cb2-6afd-475d-bd31-5144723376fa"
      },
      "outputs": [
        {
          "name": "stdout",
          "output_type": "stream",
          "text": [
            "Cluster mapping of data points(top 10)\n",
            "\n",
            "   Customer ID  Cluster_Mapping\n",
            "0            0                0\n",
            "1            1                0\n",
            "2            2                0\n",
            "3            3                0\n",
            "4            4                0\n",
            "5            5                0\n",
            "6            6                0\n",
            "7            7                0\n",
            "8            8                0\n",
            "9            9                0\n",
            "Number of data points per cluster\n",
            "\n",
            "----------------------------------\n",
            "0    129\n",
            "2     39\n",
            "1     32\n",
            "Name: Cluster_Mapping, dtype: int64\n"
          ]
        }
      ],
      "source": [
        "# making dataframe that details mapping of cluster with each data point present in the \n",
        "# data set\n",
        "Mapping_customers = pd.DataFrame(\n",
        "    {'Customer ID': list(range(0,200)),\n",
        "     'Cluster_Mapping': Cluster_mapping,\n",
        "     \n",
        "    })\n",
        "print(\"Cluster mapping of data points(top 10)\\n\")\n",
        "print(Mapping_customers.head(10))\n",
        "print(\"Number of data points per cluster\\n\")\n",
        "print(\"----------------------------------\")\n",
        "print(Mapping_customers['Cluster_Mapping'].value_counts())"
      ]
    },
    {
      "cell_type": "markdown",
      "metadata": {
        "id": "S94sZ6Rb6sx7"
      },
      "source": [
        "Cluster 1 has 129 instances whereas, cluster 0 has 71 data points. "
      ]
    },
    {
      "cell_type": "markdown",
      "metadata": {
        "id": "qnpoESe56sx7"
      },
      "source": [
        "# 6. Visualizing Clusters"
      ]
    },
    {
      "cell_type": "code",
      "execution_count": null,
      "metadata": {
        "id": "QGVu-z2-6sx7",
        "outputId": "1363573b-dc7b-4730-dc04-d93860f3572f"
      },
      "outputs": [
        {
          "data": {
            "text/plain": [
              "<matplotlib.collections.PathCollection at 0x10bf88f98>"
            ]
          },
          "execution_count": 14,
          "metadata": {},
          "output_type": "execute_result"
        },
        {
          "data": {
            "image/png": "[encoded data removed]",
            "text/plain": [
              "<Figure size 720x504 with 1 Axes>"
            ]
          },
          "metadata": {},
          "output_type": "display_data"
        }
      ],
      "source": [
        "plt.figure(figsize=(10, 7))\n",
        "# making scatter point between two features based on clustering labels\n",
        "plt.scatter(My_data['Income'], My_data['Expenditure'], c=Cluster_mapping, cmap='rainbow' )"
      ]
    },
    {
      "cell_type": "markdown",
      "metadata": {
        "id": "bWCXloQ_6sx7"
      },
      "source": [
        "Two clusters are identified "
      ]
    },
    {
      "cell_type": "markdown",
      "metadata": {
        "id": "BMsT1EJj6sx8"
      },
      "source": [
        "# 7. Evaluating Clustering output using Silhouette Score\n",
        "\n",
        "Silhouette score can be used to determine the degree of separation between clusters. The value of score ranges in interval [-1, 1]. The value close to 1 indicates good separation between clusters. On the other hand, a value close to 0 indicates that clusters are close to each other. The negative score represents wrong assignment of data points to the cluster."
      ]
    },
    {
      "cell_type": "code",
      "execution_count": null,
      "metadata": {
        "id": "ifCE_r0W6sx8",
        "outputId": "3ed8261b-36e5-4cb5-bf45-386ab8b43fbf"
      },
      "outputs": [
        {
          "name": "stdout",
          "output_type": "stream",
          "text": [
            "For n_clusters = 2, silhouette score is 0.36706444723912895)\n",
            "For n_clusters = 3, silhouette score is 0.4618340266628975)\n",
            "For n_clusters = 4, silhouette score is 0.4916598193892782)\n",
            "For n_clusters = 5, silhouette score is 0.5529945955148897)\n",
            "For n_clusters = 6, silhouette score is 0.5380208285578872)\n"
          ]
        }
      ],
      "source": [
        "# Reapplying AgglomerativeClustering on the same data set with different values \n",
        "# of clustering value\n",
        "for i in range(2, 7):\n",
        "    Cluster_result = AgglomerativeClustering(n_clusters=i, affinity='euclidean', linkage='ward').fit_predict(My_data)\n",
        "    # compute silhouette_score of each clustering output\n",
        "    \n",
        "    Cluster_score = silhouette_score(My_data,Cluster_result, metric='euclidean')\n",
        "    print (\"For n_clusters = {}, silhouette score is {})\".format(i, Cluster_score))"
      ]
    },
    {
      "cell_type": "markdown",
      "metadata": {
        "id": "S_IcrFPX6sx8"
      },
      "source": [
        "Based on Silhouette score, number of clusters when set to 5 gives good clustering output."
      ]
    }
  ],
  "metadata": {
    "kernelspec": {
      "display_name": "Python 3",
      "language": "python",
      "name": "python3"
    },
    "language_info": {
      "codemirror_mode": {
        "name": "ipython",
        "version": 3
      },
      "file_extension": ".py",
      "mimetype": "text/x-python",
      "name": "python",
      "nbconvert_exporter": "python",
      "pygments_lexer": "ipython3",
      "version": "3.6.5"
    },
    "colab": {
      "provenance": []
    }
  },
  "nbformat": 4,
  "nbformat_minor": 0
}