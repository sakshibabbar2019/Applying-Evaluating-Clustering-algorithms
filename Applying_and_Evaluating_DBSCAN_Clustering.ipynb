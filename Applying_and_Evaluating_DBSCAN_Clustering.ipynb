{
  "cells": [
    {
      "cell_type": "markdown",
      "metadata": {
        "id": "9KZov9js6zGF"
      },
      "source": [
        "# Applying and Evaluating DBSCAN Clustering\n",
        "\n",
        "DBSCAN(Density based spatial Clustering of Applications with Noise) is clustering technique used to mine high density grouping of similar data points from given data set. The key characteristics of DBSCAN is that it not only identifies high dense areas but, also discovers outliers present in the data. It works by identifying core, border data points in the data set. Core data points forms dense clusters whereas, border data points lies in the neighbourhood of core data points. Any data point which is neither core nor border are called outliers. DBSCAN works with two key parameters namely, eps and minpts which are set by the user.  Dense clusters are formed by connecting core, border data points such that there are at least minpts  data points within eps distance. Unlike K-means it does not require user to input number of clusters requires rather, it identifies possible number of clusters by itself.\n",
        "\n",
        "The key steps to apply DBSCAN clustering algorithm are:\n",
        "\n",
        "1. Load data set\n",
        "\n",
        "2. Set eps parameter is usually set to 3 but for high dimensional data set, it can be set using  2*(D-1) where D is dimensionality of the data set. Once eps is set then identify setting of minpts using knee graph.\n",
        "\n",
        "3. Apply DBSCAN on the data set using parameters set in step 2\n",
        "\n",
        "4. Visualize clustering results\n",
        "\n",
        "5. Evaluate cluserting output using Silhouette score\n",
        "\n",
        "6. Revise minpts setting based on Silhouette score and reapply DBSCAN \n",
        "\n",
        "Scikit learn library supports built in functionality for applying DBSCAN clustering, inspecting resukts and analysis of clustering output. In this tutorial, you will learn to use these functionalities to apply clustering on given data set.\n",
        "\n",
        "The data set used for demonstration is 2D. The two features are namely, Milk and Grocery. The information on these features is comprised from 441 customers showcasing there buying patterns of milk and grocery on daily basis. The idea is to apply clustering to identify similarity of  behaviour of customers in their buying patterns.\n",
        "\n"
      ]
    },
    {
      "cell_type": "markdown",
      "metadata": {
        "id": "rti4LRDQ6zGJ"
      },
      "source": [
        "# 1. Loading Data set"
      ]
    },
    {
      "cell_type": "code",
      "execution_count": null,
      "metadata": {
        "id": "Yw7joURM6zGJ"
      },
      "outputs": [],
      "source": [
        "# pandas for data manipulation\n",
        "import pandas as pd\n",
        "import numpy as np\n",
        "\n",
        "# for data visualization\n",
        "import matplotlib.pyplot as plt\n",
        "% matplotlib inline\n",
        "\n",
        "\n",
        "# importing StandardScaler from  scikit learn for data pre-processing\n",
        "from sklearn.preprocessing import StandardScaler\n",
        "\n",
        "# importing DBSCAN from sklearn\n",
        "from sklearn.cluster import DBSCAN\n",
        "\n",
        "# importing  silhouette_score metrices available in sklearn\n",
        "from sklearn.metrics.cluster import silhouette_score\n",
        "\n",
        "from sklearn.neighbors import NearestNeighbors"
      ]
    },
    {
      "cell_type": "markdown",
      "metadata": {
        "id": "Q7xeuEJN6zGL"
      },
      "source": [
        "# 2. Loading Data set\n"
      ]
    },
    {
      "cell_type": "code",
      "execution_count": null,
      "metadata": {
        "id": "NZ-a0ozZ6zGL",
        "outputId": "b49ed218-ae22-4fd8-d119-7e29e704b3bd"
      },
      "outputs": [
        {
          "data": {
            "text/html": [
              "<div>\n",
              "<style scoped>\n",
              "    .dataframe tbody tr th:only-of-type {\n",
              "        vertical-align: middle;\n",
              "    }\n",
              "\n",
              "    .dataframe tbody tr th {\n",
              "        vertical-align: top;\n",
              "    }\n",
              "\n",
              "    .dataframe thead th {\n",
              "        text-align: right;\n",
              "    }\n",
              "</style>\n",
              "<table border=\"1\" class=\"dataframe\">\n",
              "  <thead>\n",
              "    <tr style=\"text-align: right;\">\n",
              "      <th></th>\n",
              "      <th>Milk</th>\n",
              "      <th>Grocery</th>\n",
              "    </tr>\n",
              "  </thead>\n",
              "  <tbody>\n",
              "    <tr>\n",
              "      <th>count</th>\n",
              "      <td>440.000000</td>\n",
              "      <td>440.000000</td>\n",
              "    </tr>\n",
              "    <tr>\n",
              "      <th>mean</th>\n",
              "      <td>5796.265909</td>\n",
              "      <td>7951.277273</td>\n",
              "    </tr>\n",
              "    <tr>\n",
              "      <th>std</th>\n",
              "      <td>7380.377175</td>\n",
              "      <td>9503.162829</td>\n",
              "    </tr>\n",
              "    <tr>\n",
              "      <th>min</th>\n",
              "      <td>55.000000</td>\n",
              "      <td>3.000000</td>\n",
              "    </tr>\n",
              "    <tr>\n",
              "      <th>25%</th>\n",
              "      <td>1533.000000</td>\n",
              "      <td>2153.000000</td>\n",
              "    </tr>\n",
              "    <tr>\n",
              "      <th>50%</th>\n",
              "      <td>3627.000000</td>\n",
              "      <td>4755.500000</td>\n",
              "    </tr>\n",
              "    <tr>\n",
              "      <th>75%</th>\n",
              "      <td>7190.250000</td>\n",
              "      <td>10655.750000</td>\n",
              "    </tr>\n",
              "    <tr>\n",
              "      <th>max</th>\n",
              "      <td>73498.000000</td>\n",
              "      <td>92780.000000</td>\n",
              "    </tr>\n",
              "  </tbody>\n",
              "</table>\n",
              "</div>"
            ],
            "text/plain": [
              "               Milk       Grocery\n",
              "count    440.000000    440.000000\n",
              "mean    5796.265909   7951.277273\n",
              "std     7380.377175   9503.162829\n",
              "min       55.000000      3.000000\n",
              "25%     1533.000000   2153.000000\n",
              "50%     3627.000000   4755.500000\n",
              "75%     7190.250000  10655.750000\n",
              "max    73498.000000  92780.000000"
            ]
          },
          "execution_count": 2,
          "metadata": {},
          "output_type": "execute_result"
        }
      ],
      "source": [
        "My_data = pd.read_csv('Grocery_data.csv')\n",
        "\n",
        "# getting summary of data set\n",
        "My_data.describe()\n",
        "\n"
      ]
    },
    {
      "cell_type": "markdown",
      "metadata": {
        "id": "NaAU_Bkx6zGM"
      },
      "source": [
        "The features appears to be in different scale. It is good practice to standardize the data set before apply clustering algorithm. In the next step,StandardScaler() function from sklearn is used to preprocess data set "
      ]
    },
    {
      "cell_type": "markdown",
      "metadata": {
        "id": "d7_NBd6P6zGN"
      },
      "source": [
        "# 3.  Standardize Data set"
      ]
    },
    {
      "cell_type": "code",
      "execution_count": null,
      "metadata": {
        "id": "RP4vOZYF6zGN"
      },
      "outputs": [],
      "source": [
        "# Standardizing data set\n",
        "stscaler = StandardScaler().fit(My_data)\n",
        "My_data = stscaler.transform(My_data)\n",
        "My_data=pd.DataFrame(My_data)"
      ]
    },
    {
      "cell_type": "markdown",
      "metadata": {
        "id": "lc9JGloS6zGN"
      },
      "source": [
        "### 4. Setting minpts and eps  Parameters \n",
        "\n",
        "For 2D data set, minpts set to 3. In order to find value of eps parameter, knee graph can be used. The knee graph is plotted by calculating the distance to the nearest n data points for each data point present in the data set, sorting the distances and putting them on the graph.  Using Sklearn, distance from each data point to its closest neighbour can be calculated using NearestNeighbors() function. The point itself is included in n_neighbors. This function kneighbors  returns two arrays, one which contains the distance to the closest n_neighbors data points and the other which contains the index for each of those data points. The sorted distances are used to make a plot. The optimal value for eps can be  at the point of maximum curvature on the graph."
      ]
    },
    {
      "cell_type": "code",
      "execution_count": null,
      "metadata": {
        "id": "QPjx1Mtw6zGO",
        "outputId": "2fdd1e90-6b1d-4e9c-ae61-7a49a9730f60"
      },
      "outputs": [
        {
          "data": {
            "text/plain": [
              "[<matplotlib.lines.Line2D at 0x10b72d4e0>]"
            ]
          },
          "execution_count": 11,
          "metadata": {},
          "output_type": "execute_result"
        },
        {
          "data": {
            "image/png": "[encoded data removed]",
            "text/plain": [
              "<Figure size 432x288 with 1 Axes>"
            ]
          },
          "metadata": {},
          "output_type": "display_data"
        }
      ],
      "source": [
        "# calculating 2NN of each data points present in the data set\n",
        "neigh_k = NearestNeighbors(n_neighbors=3)\n",
        "Knbrs = neigh_k.fit(My_data)\n",
        "distances, indices = Knbrs.kneighbors(My_data)\n",
        "\n",
        "# sorting the distances\n",
        "distances = np.sort(distances, axis=0)\n",
        "distances = distances[:,1]\n",
        "# plotting the distances\n",
        "plt.plot(distances)"
      ]
    },
    {
      "cell_type": "markdown",
      "metadata": {
        "id": "mqPAiq3E6zGO"
      },
      "source": [
        "Based on Knee plot, best eps value is 0.2 for the given data set"
      ]
    },
    {
      "cell_type": "markdown",
      "metadata": {
        "id": "yLmaKy676zGO"
      },
      "source": [
        "# 5.  Applying DBSCAN and Analysing Cluserting Output"
      ]
    },
    {
      "cell_type": "code",
      "execution_count": null,
      "metadata": {
        "id": "l5k0h_D76zGO",
        "outputId": "4ec3ed07-33d8-4f87-aa76-3cc2a6c1b235"
      },
      "outputs": [
        {
          "name": "stdout",
          "output_type": "stream",
          "text": [
            "Total number of cluster(including Outliers):  3\n",
            "Cluster mapping of data points(top 10)\n",
            "\n",
            "   Customer ID  Cluster_Mapping\n",
            "0            0                0\n",
            "1            1                0\n",
            "2            2                0\n",
            "3            3                0\n",
            "4            4                0\n",
            "5            5                0\n",
            "6            6                0\n",
            "7            7                0\n",
            "8            8                0\n",
            "9            9                0\n",
            "Number of data points per cluster\n",
            "\n",
            "----------------------------------\n",
            " 0    382\n",
            "-1     51\n",
            " 1      7\n",
            "Name: Cluster_Mapping, dtype: int64\n"
          ]
        }
      ],
      "source": [
        "# applying DBSCAN with eps =0.2 and minpts= 3\n",
        "clusters = DBSCAN(eps=0.2, min_samples=3)\n",
        "Dbscan_mapping = clusters.fit_predict(My_data)\n",
        "\n",
        "# Getting total number of clusters discovered by DBSCAN\n",
        "print(\"Total number of cluster(including Outliers): \",len(np.unique(Dbscan_mapping)))\n",
        "\n",
        "\n",
        "# making dataframe that details mapping of cluster with each data point present in the \n",
        "# data set\n",
        "Mapping_customers = pd.DataFrame(\n",
        "    {'Customer ID': list(range(0,440)),\n",
        "     'Cluster_Mapping': Dbscan_mapping,\n",
        "     \n",
        "    })\n",
        "print(\"Cluster mapping of data points(top 10)\\n\")\n",
        "print(Mapping_customers.head(10))\n",
        "print(\"Number of data points per cluster\\n\")\n",
        "print(\"----------------------------------\")\n",
        "print(Mapping_customers['Cluster_Mapping'].value_counts())\n",
        "\n"
      ]
    },
    {
      "cell_type": "markdown",
      "metadata": {
        "id": "DBMVRMvo6zGP"
      },
      "source": [
        "Total number clusters identified by DBSCAN are 2. The first cluster has 382 samples and the second cluster contains 7 data points. The 51 samples belonging to -1 class referes to outliers present in the data set. "
      ]
    },
    {
      "cell_type": "markdown",
      "metadata": {
        "id": "wAExVO7c6zGP"
      },
      "source": [
        "# 6.  Visualizing Clustering Output"
      ]
    },
    {
      "cell_type": "code",
      "execution_count": null,
      "metadata": {
        "id": "n3tcC1nZ6zGP",
        "outputId": "8744a6cf-1ec8-47bc-fb6a-e656e4ce64a9"
      },
      "outputs": [
        {
          "data": {
            "image/png": "[encoded data removed]",
            "text/plain": [
              "<Figure size 432x288 with 1 Axes>"
            ]
          },
          "metadata": {},
          "output_type": "display_data"
        },
        {
          "data": {
            "image/png": "[encoded data removed]",
            "text/plain": [
              "<Figure size 648x648 with 1 Axes>"
            ]
          },
          "metadata": {},
          "output_type": "display_data"
        }
      ],
      "source": [
        "colours = {} \n",
        "colours[0] = 'r'\n",
        "colours[1] = 'g'\n",
        "colours[2] = 'm'\n",
        "colours[-1] = 'k'  \n",
        "cvec = [colours[label] for label in Dbscan_mapping] \n",
        "colors = ['r', 'g','m','k'] \n",
        "\n",
        "\n",
        "r = plt.scatter( \n",
        "        My_data.iloc[:,0],My_data.iloc[:,1], marker ='o', color = colors[0]) \n",
        "g = plt.scatter( \n",
        "        My_data.iloc[:,0],My_data.iloc[:,1], marker ='o', color = colors[1]) \n",
        "m = plt.scatter( \n",
        "        My_data.iloc[:,0],My_data.iloc[:,1], marker ='o', color = colors[2]) \n",
        "k = plt.scatter( \n",
        "       My_data.iloc[:,0],My_data.iloc[:,1], marker ='o', color = colors[-1])\n",
        "\n",
        "\n",
        "plt.figure(figsize =(9, 9)) \n",
        "plt.scatter(My_data.iloc[:,0],My_data.iloc[:,1], c = cvec) \n",
        "plt.legend((r, g, m, k), \n",
        "           ('Cluster 0', 'Cluster 1', 'Cluster 2','Outliers'), \n",
        "           scatterpoints = 1, \n",
        "           loc ='upper left', \n",
        "           ncol = 1, \n",
        "           fontsize = 8) \n",
        "plt.show() "
      ]
    },
    {
      "cell_type": "markdown",
      "metadata": {
        "id": "sIdmrRis6zGQ"
      },
      "source": [
        "Black data points are outliers. The two cluserters are visible in red and green colors."
      ]
    },
    {
      "cell_type": "markdown",
      "metadata": {
        "id": "qcqPs98e6zGQ"
      },
      "source": [
        "# 7. Evaluate Cluserting Output using Silhouette Score\n",
        "\n",
        "From clustering output it is appearing that if we change setting of eps paramter then black data points very close to red dense cluster can be interegated together. The robust testing on right eps paramter can be identified using Silhouette score. Where, on different eps values DBSCAN clustering output is evaluated. The eps value where silhouette score is maximum can be taken as final eps value. "
      ]
    },
    {
      "cell_type": "code",
      "execution_count": null,
      "metadata": {
        "id": "4GNqsJBh6zGQ",
        "outputId": "e148f3be-b1f0-480a-dd71-4ad52cc7f3b4"
      },
      "outputs": [
        {
          "name": "stdout",
          "output_type": "stream",
          "text": [
            "For eps distance = 0.2, silhouette score is 0.4769515749125393)\n",
            "For eps distance = 0.4, silhouette score is 0.47638087995721345)\n",
            "For eps distance = 0.6000000000000001, silhouette score is 0.7936269437583037)\n",
            "For eps distance = 0.8, silhouette score is 0.8075782537339545)\n",
            "For eps distance = 1.0, silhouette score is 0.8232282163743244)\n",
            "For eps distance = 1.2, silhouette score is 0.8478111081060252)\n",
            "For eps distance = 1.4000000000000001, silhouette score is 0.8478111081060252)\n",
            "For eps distance = 1.6, silhouette score is 0.8478111081060252)\n",
            "For eps distance = 1.8, silhouette score is 0.8478111081060252)\n"
          ]
        }
      ],
      "source": [
        "# looping over different eps value and applying DBSCAN\n",
        "for radius in np.arange(0.2, 2, 0.2):\n",
        "    Cluster_result = DBSCAN(eps=radius, min_samples=3).fit_predict(My_data)\n",
        "   \n",
        "    #compute silhouette_score of each clustering output\n",
        "    \n",
        "    Cluster_score = silhouette_score(My_data,Cluster_result)\n",
        "    print (\"For eps distance = {}, silhouette score is {})\".format(radius, Cluster_score))\n",
        "\n",
        "\n"
      ]
    },
    {
      "cell_type": "markdown",
      "metadata": {
        "id": "F_0s6Nxu6zGQ"
      },
      "source": [
        "Based on Silhouette score, it is wise to take eps =1.2. "
      ]
    },
    {
      "cell_type": "markdown",
      "metadata": {
        "id": "DtDIFGcV6zGR"
      },
      "source": [
        "# 8. Reapplying DBSCAN with new eps value Identified by Silhouette score "
      ]
    },
    {
      "cell_type": "code",
      "execution_count": null,
      "metadata": {
        "id": "ond2N2306zGR",
        "outputId": "89a8a443-4b82-417a-86c1-60f95bee02d8"
      },
      "outputs": [
        {
          "name": "stdout",
          "output_type": "stream",
          "text": [
            "Total number of cluster(including Outliers):  2\n",
            "Cluster mapping of data points(top 10)\n",
            "\n",
            "   Customer ID  Cluster_Mapping\n",
            "0            0                0\n",
            "1            1                0\n",
            "2            2                0\n",
            "3            3                0\n",
            "4            4                0\n",
            "5            5                0\n",
            "6            6                0\n",
            "7            7                0\n",
            "8            8                0\n",
            "9            9                0\n",
            "Number of data points per cluster\n",
            "\n",
            "----------------------------------\n",
            " 0    435\n",
            "-1      5\n",
            "Name: Cluster_Mapping, dtype: int64\n"
          ]
        }
      ],
      "source": [
        "# applying DBSCAN with eps =1.2 and minpts= 3\n",
        "clusters = DBSCAN(eps=1.2, min_samples=3)\n",
        "Dbscan_mapping = clusters.fit_predict(My_data)\n",
        "\n",
        "# Getting total number of clusters discovered by DBSCAN\n",
        "print(\"Total number of cluster(including Outliers): \",len(np.unique(Dbscan_mapping)))\n",
        "\n",
        "\n",
        "# making dataframe that details mapping of cluster with each data point present in the \n",
        "# data set\n",
        "Mapping_customers = pd.DataFrame(\n",
        "    {'Customer ID': list(range(0,440)),\n",
        "     'Cluster_Mapping': Dbscan_mapping,\n",
        "     \n",
        "    })\n",
        "print(\"Cluster mapping of data points(top 10)\\n\")\n",
        "print(Mapping_customers.head(10))\n",
        "print(\"Number of data points per cluster\\n\")\n",
        "print(\"----------------------------------\")\n",
        "print(Mapping_customers['Cluster_Mapping'].value_counts())\n",
        "\n",
        "\n"
      ]
    },
    {
      "cell_type": "markdown",
      "metadata": {
        "id": "WkvnR1RO6zGR"
      },
      "source": [
        "# 9. Visualizing revised Cluserting output "
      ]
    },
    {
      "cell_type": "code",
      "execution_count": null,
      "metadata": {
        "id": "BbR9G5oM6zGR",
        "outputId": "46c3cfe2-c81f-4118-9552-9ba43400a576"
      },
      "outputs": [
        {
          "data": {
            "text/plain": [
              "<matplotlib.collections.PathCollection at 0x10bd10e10>"
            ]
          },
          "execution_count": 16,
          "metadata": {},
          "output_type": "execute_result"
        },
        {
          "data": {
            "image/png": "[encoded data removed]",
            "text/plain": [
              "<Figure size 648x648 with 1 Axes>"
            ]
          },
          "metadata": {},
          "output_type": "display_data"
        }
      ],
      "source": [
        "plt.figure(figsize =(9, 9)) \n",
        "plt.scatter(My_data.iloc[:,0],My_data.iloc[:,1], c = Dbscan_mapping) "
      ]
    },
    {
      "cell_type": "markdown",
      "metadata": {
        "id": "rnXNkUSs6zGS"
      },
      "source": [
        "Data set has one cluster(yellow data points) and 5 outli"
      ]
    }
  ],
  "metadata": {
    "kernelspec": {
      "display_name": "Python 3",
      "language": "python",
      "name": "python3"
    },
    "language_info": {
      "codemirror_mode": {
        "name": "ipython",
        "version": 3
      },
      "file_extension": ".py",
      "mimetype": "text/x-python",
      "name": "python",
      "nbconvert_exporter": "python",
      "pygments_lexer": "ipython3",
      "version": "3.6.5"
    },
    "colab": {
      "provenance": []
    }
  },
  "nbformat": 4,
  "nbformat_minor": 0
}